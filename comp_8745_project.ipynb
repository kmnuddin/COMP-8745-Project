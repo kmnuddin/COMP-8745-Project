{
 "cells": [
  {
   "cell_type": "markdown",
   "metadata": {},
   "source": [
    "# COMP 8745 Final Project"
   ]
  },
  {
   "cell_type": "code",
   "execution_count": 65,
   "metadata": {},
   "outputs": [],
   "source": [
    "import numpy as np\n",
    "import pandas as pd\n",
    "\n",
    "from sklearn.feature_extraction.text import TfidfVectorizer\n",
    "from sklearn.linear_model import LogisticRegression\n",
    "from sklearn import metrics\n",
    "from sklearn.cross_validation import cross_val_score"
   ]
  },
  {
   "cell_type": "code",
   "execution_count": 39,
   "metadata": {
    "scrolled": false
   },
   "outputs": [],
   "source": [
    "data_train = pd.read_csv('training.txt', sep='\\t',header=None,engine='python',error_bad_lines=False, warn_bad_lines=False)\n",
    "data_train.columns = ['Reviews','Ratings']\n",
    "\n",
    "data_test = pd.read_csv('test.txt', sep='\\t',header=None,engine='python',error_bad_lines=False, warn_bad_lines=False)\n",
    "data_test.columns = ['Reviews', 'Ratings']\n",
    "\n",
    "X_train = data_train['Reviews']\n",
    "y_train = data_train['Ratings']\n",
    "\n",
    "X_test = data_test['Reviews']\n",
    "y_test = data_test['Ratings']"
   ]
  },
  {
   "cell_type": "markdown",
   "metadata": {},
   "source": [
    "## Implementation of bag of words model using TfidfVectorizer"
   ]
  },
  {
   "cell_type": "code",
   "execution_count": 59,
   "metadata": {},
   "outputs": [],
   "source": [
    "vecotrizer_train = TfidfVectorizer(stop_words='english')\n",
    "vector_train = vecotrizer.fit_transform(X_train)\n",
    "\n",
    "vecotrizer_test = TfidfVectorizer(stop_words='english')\n",
    "vector_test = vecotrizer.transform(X_test)\n"
   ]
  },
  {
   "cell_type": "code",
   "execution_count": 67,
   "metadata": {},
   "outputs": [
    {
     "name": "stdout",
     "output_type": "stream",
     "text": [
      "0.5325325325325325\n"
     ]
    }
   ],
   "source": [
    "lgr = LogisticRegression()\n",
    "lgr.fit(vector_train, y_train)\n",
    "\n",
    "y_pred = lgr.predict(vector_test)\n",
    "\n",
    "print(metrics.accuracy_score(y_test, y_pred))"
   ]
  }
 ],
 "metadata": {
  "kernelspec": {
   "display_name": "Python 3",
   "language": "python",
   "name": "python3"
  },
  "language_info": {
   "codemirror_mode": {
    "name": "ipython",
    "version": 3
   },
   "file_extension": ".py",
   "mimetype": "text/x-python",
   "name": "python",
   "nbconvert_exporter": "python",
   "pygments_lexer": "ipython3",
   "version": "3.6.5"
  }
 },
 "nbformat": 4,
 "nbformat_minor": 2
}
